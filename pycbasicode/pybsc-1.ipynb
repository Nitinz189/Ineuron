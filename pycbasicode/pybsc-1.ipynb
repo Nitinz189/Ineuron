{
 "cells": [
  {
   "cell_type": "code",
   "execution_count": 2,
   "id": "3503d2e3-222c-4953-bf28-f3cbb5758e80",
   "metadata": {},
   "outputs": [
    {
     "name": "stdout",
     "output_type": "stream",
     "text": [
      "Hello World\n"
     ]
    }
   ],
   "source": [
    "# 1.\tWrite a Python program to print \"Hello Python\"?\n",
    "\n",
    "print(f'Hello World')"
   ]
  },
  {
   "cell_type": "code",
   "execution_count": 5,
   "id": "d2adb65f-7359-42c1-b309-5367ccee1cc6",
   "metadata": {},
   "outputs": [
    {
     "name": "stdin",
     "output_type": "stream",
     "text": [
      "First number 8\n",
      "Second number 4\n"
     ]
    },
    {
     "name": "stdout",
     "output_type": "stream",
     "text": [
      "12\n",
      "2.0\n"
     ]
    }
   ],
   "source": [
    "# 2.\tWrite a Python program to do arithmetical operations addition and division.?\n",
    "first_number = int(input(\"First number\"))\n",
    "second_number = int(input(\"Second number\"))\n",
    "try:\n",
    "    addition  = first_number + second_number\n",
    "    division  = first_number / second_number\n",
    "    print(addition)\n",
    "    print(division)\n",
    "except:\n",
    "    print(f'not working')"
   ]
  },
  {
   "cell_type": "code",
   "execution_count": 7,
   "id": "b2a1dfd1-3e66-4451-9eff-44c6d4b43f7f",
   "metadata": {},
   "outputs": [
    {
     "name": "stdin",
     "output_type": "stream",
     "text": [
      "base of triangle 8\n",
      "height of triangle 6\n"
     ]
    },
    {
     "name": "stdout",
     "output_type": "stream",
     "text": [
      "area of triangle  = 24.0\n"
     ]
    }
   ],
   "source": [
    "# 3.\tWrite a Python program to find the area of a triangle?\n",
    "base_of_triangle = int(input(\"base of triangle\"))\n",
    "height_of_triangle = int(input(\"height of triangle\"))\n",
    "try:\n",
    "    a = 0.5*base_of_triangle * height_of_triangle\n",
    "    print(f'area of triangle  = {a}' )\n",
    "except:\n",
    "    print(f'not working')"
   ]
  },
  {
   "cell_type": "code",
   "execution_count": 17,
   "id": "ade31717-3438-4c66-89e8-7e5582adc9d1",
   "metadata": {},
   "outputs": [
    {
     "name": "stdout",
     "output_type": "stream",
     "text": [
      "64\n"
     ]
    }
   ],
   "source": [
    "# 4.\tWrite a Python program to swap two variables?\n",
    "a = 4\n",
    "b = 6\n",
    "c = a\n",
    "a = b\n",
    "b = c\n",
    "print(f'{a}{b}')"
   ]
  },
  {
   "cell_type": "code",
   "execution_count": null,
   "id": "720515ae-01e8-4a64-93bd-e560e3dfd7f1",
   "metadata": {},
   "outputs": [],
   "source": [
    "# 5.\tWrite a Python program to generate a random number?"
   ]
  },
  {
   "cell_type": "code",
   "execution_count": 12,
   "id": "f0c92e02-dcaa-4bf7-9c7b-af5e1f539c9f",
   "metadata": {},
   "outputs": [
    {
     "name": "stdout",
     "output_type": "stream",
     "text": [
      "16\n"
     ]
    }
   ],
   "source": [
    "import random\n",
    "e = random.randint(1,100)\n",
    "print(e)"
   ]
  },
  {
   "cell_type": "code",
   "execution_count": null,
   "id": "4b03bd48-a7c3-4ef3-aead-3c51b8111854",
   "metadata": {},
   "outputs": [],
   "source": []
  },
  {
   "cell_type": "code",
   "execution_count": null,
   "id": "129fb147-6289-4ea5-a642-2a96666fb907",
   "metadata": {},
   "outputs": [],
   "source": []
  }
 ],
 "metadata": {
  "kernelspec": {
   "display_name": "Python 3 (ipykernel)",
   "language": "python",
   "name": "python3"
  },
  "language_info": {
   "codemirror_mode": {
    "name": "ipython",
    "version": 3
   },
   "file_extension": ".py",
   "mimetype": "text/x-python",
   "name": "python",
   "nbconvert_exporter": "python",
   "pygments_lexer": "ipython3",
   "version": "3.12.4"
  }
 },
 "nbformat": 4,
 "nbformat_minor": 5
}
