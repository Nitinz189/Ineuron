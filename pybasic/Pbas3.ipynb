{
 "cells": [
  {
   "cell_type": "code",
   "execution_count": 1,
   "id": "a7d5d197-f0ab-4beb-93e2-757c64612832",
   "metadata": {},
   "outputs": [
    {
     "data": {
      "text/plain": [
       "\"\\n1. Why are functions advantageous to have in your programs?\\n2. When does the code in a function run: when it's specified or when it's called?\\n3. What statement creates a function?\\n4. What is the difference between a function and a function call?\\n5. How many global scopes are there in a Python program? How many local scopes?\\n6. What happens to variables in a local scope when the function call returns?\\n7. What is the concept of a return value? Is it possible to have a return value in an expression?\\n8. If a function does not have a return statement, what is the return value of a call to that function?\\n9. How do you make a function variable refer to the global variable?\\n10. What is the data type of None?\\n11. What does the sentence import areallyourpetsnamederic do?\\n12. If you had a bacon() feature in a spam module, what would you call it after importing spam?\\n13. What can you do to save a programme from crashing if it encounters an error?\\n14. What is the purpose of the try clause? What is the purpose of the except clause?\\n\\n\\n\\n\""
      ]
     },
     "execution_count": 1,
     "metadata": {},
     "output_type": "execute_result"
    }
   ],
   "source": [
    "'''\n",
    "1. Why are functions advantageous to have in your programs?\n",
    "2. When does the code in a function run: when it's specified or when it's called?\n",
    "3. What statement creates a function?\n",
    "4. What is the difference between a function and a function call?\n",
    "5. How many global scopes are there in a Python program? How many local scopes?\n",
    "6. What happens to variables in a local scope when the function call returns?\n",
    "7. What is the concept of a return value? Is it possible to have a return value in an expression?\n",
    "8. If a function does not have a return statement, what is the return value of a call to that function?\n",
    "9. How do you make a function variable refer to the global variable?\n",
    "10. What is the data type of None?\n",
    "11. What does the sentence import areallyourpetsnamederic do?\n",
    "12. If you had a bacon() feature in a spam module, what would you call it after importing spam?\n",
    "13. What can you do to save a programme from crashing if it encounters an error?\n",
    "14. What is the purpose of the try clause? What is the purpose of the except clause?\n",
    "\n",
    "\n",
    "\n",
    "'''"
   ]
  },
  {
   "cell_type": "code",
   "execution_count": 2,
   "id": "fbda6634-3bca-4172-8ee4-7ecaba41d394",
   "metadata": {},
   "outputs": [],
   "source": [
    "# 1. Why are functions advantageous to have in your programs?\n",
    "# It makes your program short and not repetetive and neat and easy to understand"
   ]
  },
  {
   "cell_type": "code",
   "execution_count": 3,
   "id": "c02de8d1-d066-4f11-8c56-218e945aa08b",
   "metadata": {},
   "outputs": [],
   "source": [
    "# 2. When does the code in a function run: when it's specified or when it's called?\n",
    "# when its called when you specified a function its means we will use it later"
   ]
  },
  {
   "cell_type": "code",
   "execution_count": 5,
   "id": "89dcebbc-0161-45f2-b708-39151b11d03d",
   "metadata": {},
   "outputs": [
    {
     "data": {
      "text/plain": [
       "77"
      ]
     },
     "execution_count": 5,
     "metadata": {},
     "output_type": "execute_result"
    }
   ],
   "source": [
    "# 3. What statement creates a function?\n",
    "def total_items(a,b):\n",
    "    return a+b\n",
    "total_items(12,65)"
   ]
  },
  {
   "cell_type": "code",
   "execution_count": 8,
   "id": "953f1b56-13d0-40d2-a902-772e67c6c97a",
   "metadata": {},
   "outputs": [
    {
     "data": {
      "text/plain": [
       "117"
      ]
     },
     "execution_count": 8,
     "metadata": {},
     "output_type": "execute_result"
    }
   ],
   "source": [
    "# 4. What is the difference between a function and a function call?\n",
    "# Function is a block of code which execute specific thing that he designed to do\n",
    "def total_items(a,b):\n",
    "    return a+b\n",
    "# A function call is when you execute the code inside a function by using its name followed by parentheses. \n",
    "total_items(52,65)"
   ]
  },
  {
   "cell_type": "code",
   "execution_count": 9,
   "id": "d7474ecb-cc56-4cb6-8433-863781edb9ff",
   "metadata": {},
   "outputs": [],
   "source": [
    "# 5. How many global scopes are there in a Python program? How many local scopes?\n",
    "# the variable that defines outside the class or function is global. \n",
    "# the variable that inside in the function is local scope."
   ]
  },
  {
   "cell_type": "code",
   "execution_count": 10,
   "id": "b2b56b6d-36a5-460b-af98-8046449e2be5",
   "metadata": {},
   "outputs": [],
   "source": [
    "# 6. What happens to variables in a local scope when the function call returns?\n",
    "# after the return local scope destroyed and variable stored in the local scope is discarded"
   ]
  },
  {
   "cell_type": "code",
   "execution_count": 12,
   "id": "c92bec58-0048-467a-8c0e-12a59b9d692f",
   "metadata": {},
   "outputs": [],
   "source": [
    "# 7. What is the concept of a return value? Is it possible to have a return value in an expression?\n",
    "# It returns the value of eexpression in that function and Yes its possible to return the value as an expression as we can sees in the above examples"
   ]
  },
  {
   "cell_type": "code",
   "execution_count": 13,
   "id": "cee1da49-5959-4ba7-a143-77f3bf24ef2b",
   "metadata": {},
   "outputs": [],
   "source": [
    "# 8. If a function does not have a return statement, what is the return value of a call to that function?\n",
    "#  yes he returns None"
   ]
  },
  {
   "cell_type": "code",
   "execution_count": 25,
   "id": "087ccaea-de7a-478d-918f-d56730cdbc8e",
   "metadata": {},
   "outputs": [
    {
     "name": "stdout",
     "output_type": "stream",
     "text": [
      "This function does not return anything explicitly.\n",
      "None\n"
     ]
    }
   ],
   "source": [
    "def fun():\n",
    "    print(\"This function does not return anything explicitly.\")\n",
    "\n",
    "result = fun()\n",
    "print(result)  # This will print 'None'\n"
   ]
  },
  {
   "cell_type": "code",
   "execution_count": 27,
   "id": "a916c15d-dbee-4e02-84d4-57cb146b40e8",
   "metadata": {},
   "outputs": [],
   "source": [
    "# 9. How do you make a function variable refer to the global variable?\n",
    "# if variable defined outside any fn or calss"
   ]
  },
  {
   "cell_type": "code",
   "execution_count": 29,
   "id": "cec594e6-fefd-450b-b9ca-2018c6686ad5",
   "metadata": {},
   "outputs": [
    {
     "name": "stdout",
     "output_type": "stream",
     "text": [
      "<class 'NoneType'>\n"
     ]
    }
   ],
   "source": [
    "# 10. What is the data type of None?\n",
    "print(type(None))"
   ]
  },
  {
   "cell_type": "code",
   "execution_count": 30,
   "id": "8ef1deea-47a5-4ec0-a2b8-4a230af8899b",
   "metadata": {},
   "outputs": [],
   "source": [
    "# 11. What does the sentence import areallyourpetsnamederic do?\n",
    "# this try to import module named areallyourpetsnamederic"
   ]
  },
  {
   "cell_type": "code",
   "execution_count": 32,
   "id": "62996ac2-3059-4eb9-9f9d-4668578df2f1",
   "metadata": {},
   "outputs": [],
   "source": [
    "# # 12. If you had a bacon() feature in a spam module, what would you call it after importing spam?\n",
    "# import spam\n",
    "# spam.bacon()"
   ]
  },
  {
   "cell_type": "code",
   "execution_count": 34,
   "id": "4d49500c-dcea-450d-ab42-99df02d3e5b7",
   "metadata": {},
   "outputs": [
    {
     "name": "stdout",
     "output_type": "stream",
     "text": [
      "You can't divide by zero!\n",
      "This will always be printed.\n"
     ]
    }
   ],
   "source": [
    "# 13. What can you do to save a programme from crashing if it encounters an error?\n",
    "# To prevent a program from crashing when it encounters an error, you can use error handling techniques.\n",
    "# In Python, this is typically done using the try, except, else, and finally blocks\n",
    "try:\n",
    "    # Code that might cause an error\n",
    "    result = 10 / 0\n",
    "except ZeroDivisionError:\n",
    "    # Code to handle the error\n",
    "    print(\"You can't divide by zero!\")\n",
    "else:\n",
    "    # Code to execute if no errors occur\n",
    "    print(\"Division was successful!\")\n",
    "finally:\n",
    "    # Code that always executes\n",
    "    print(\"This will always be printed.\")\n"
   ]
  },
  {
   "cell_type": "code",
   "execution_count": 35,
   "id": "99eabd01-7b8a-4a50-9ce6-96095f9c96ba",
   "metadata": {},
   "outputs": [],
   "source": [
    "# 14. What is the purpose of the try clause? What is the purpose of the except clause?\n",
    "# The try clause is used to wrap a block of code that might throw an error. It allows you to test the code for exceptions."
   ]
  },
  {
   "cell_type": "code",
   "execution_count": null,
   "id": "b81d4a62-af1c-47e3-bec5-f9ac52257bb3",
   "metadata": {},
   "outputs": [],
   "source": []
  }
 ],
 "metadata": {
  "kernelspec": {
   "display_name": "Python 3 (ipykernel)",
   "language": "python",
   "name": "python3"
  },
  "language_info": {
   "codemirror_mode": {
    "name": "ipython",
    "version": 3
   },
   "file_extension": ".py",
   "mimetype": "text/x-python",
   "name": "python",
   "nbconvert_exporter": "python",
   "pygments_lexer": "ipython3",
   "version": "3.12.4"
  }
 },
 "nbformat": 4,
 "nbformat_minor": 5
}
