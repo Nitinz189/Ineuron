{
 "cells": [
  {
   "cell_type": "code",
   "execution_count": null,
   "id": "174eda8a-89f5-4ba8-824f-9c191362503c",
   "metadata": {},
   "outputs": [],
   "source": [
    "'''\n",
    "1. What does an empty dictionary's code look like?\n",
    "2. What is the value of a dictionary value with the key 'foo' and the value 42?\n",
    "3. What is the most significant distinction between a dictionary and a list?\n",
    "4. What happens if you try to access spam['foo'] if spam is {'bar': 100}?\n",
    "5. If a dictionary is stored in spam, what is the difference between the expressions 'cat' in spam and 'cat' in spam.keys()?\n",
    "6. If a dictionary is stored in spam, what is the difference between the expressions 'cat' in spam and 'cat' in spam.values()?\n",
    "7. What is a shortcut for the following code?\n",
    "if 'color' not in spam:\n",
    "spam['color'] = 'black'\n",
    "\n",
    "8. How do you \"pretty print\" dictionary values using which module and function?\n",
    "\n",
    "\n",
    "'''"
   ]
  },
  {
   "cell_type": "code",
   "execution_count": 1,
   "id": "ed0f41b5-4e71-4313-b518-ce850751568a",
   "metadata": {},
   "outputs": [
    {
     "data": {
      "text/plain": [
       "dict"
      ]
     },
     "execution_count": 1,
     "metadata": {},
     "output_type": "execute_result"
    }
   ],
   "source": [
    "# 1. What does an empty dictionary's code look like?\n",
    "a = {}\n",
    "type(a)"
   ]
  },
  {
   "cell_type": "code",
   "execution_count": 6,
   "id": "93dc0d20-d4bc-47d0-b2e5-4d75edccd9d1",
   "metadata": {},
   "outputs": [
    {
     "data": {
      "text/plain": [
       "42"
      ]
     },
     "execution_count": 6,
     "metadata": {},
     "output_type": "execute_result"
    }
   ],
   "source": [
    "# 2. What is the value of a dictionary value with the key 'foo' and the value 42?\n",
    "dict_1 = {'foo':42,}\n",
    "dict_1.get('foo')"
   ]
  },
  {
   "cell_type": "code",
   "execution_count": 8,
   "id": "44ad3deb-cf42-486d-9b49-f50994bd3480",
   "metadata": {},
   "outputs": [
    {
     "data": {
      "text/plain": [
       "42"
      ]
     },
     "execution_count": 8,
     "metadata": {},
     "output_type": "execute_result"
    }
   ],
   "source": [
    "# 3. What is the most significant distinction between a dictionary and a list?\n",
    "# that dict store data in form of keys and values and we cannot repeat keys , and we can acsess values by just using keys like phone book while in lists\n",
    "# we nned to write indices to print values\n",
    "dict_1 = {'foo':42,}\n",
    "dict_1.get('foo')"
   ]
  },
  {
   "cell_type": "code",
   "execution_count": 13,
   "id": "09740b84-4efc-4e62-8c0b-0c8816bac9a6",
   "metadata": {},
   "outputs": [
    {
     "name": "stdout",
     "output_type": "stream",
     "text": [
      "king\n"
     ]
    }
   ],
   "source": [
    "list_1 = ['jr',78, 'king','queen']\n",
    "print(list_1[2])"
   ]
  },
  {
   "cell_type": "code",
   "execution_count": 20,
   "id": "bb58e5a0-1a5e-4f9e-9ff0-ce6dcb740277",
   "metadata": {},
   "outputs": [
    {
     "ename": "KeyError",
     "evalue": "'foo'",
     "output_type": "error",
     "traceback": [
      "\u001b[1;31m---------------------------------------------------------------------------\u001b[0m",
      "\u001b[1;31mKeyError\u001b[0m                                  Traceback (most recent call last)",
      "Cell \u001b[1;32mIn[20], line 3\u001b[0m\n\u001b[0;32m      1\u001b[0m \u001b[38;5;66;03m# 4. What happens if you try to access spam['foo'] if spam is {'bar': 100}?\u001b[39;00m\n\u001b[0;32m      2\u001b[0m spam \u001b[38;5;241m=\u001b[39m {\u001b[38;5;124m'\u001b[39m\u001b[38;5;124mbar\u001b[39m\u001b[38;5;124m'\u001b[39m:\u001b[38;5;241m100\u001b[39m}\n\u001b[1;32m----> 3\u001b[0m spam[\u001b[38;5;124m'\u001b[39m\u001b[38;5;124mfoo\u001b[39m\u001b[38;5;124m'\u001b[39m]\n",
      "\u001b[1;31mKeyError\u001b[0m: 'foo'"
     ]
    }
   ],
   "source": [
    "# 4. What happens if you try to access spam['foo'] if spam is {'bar': 100}?\n",
    "spam = {'bar':100}\n",
    "spam['foo']\n",
    "# this will give error"
   ]
  },
  {
   "cell_type": "code",
   "execution_count": 25,
   "id": "7b6dc62a-9e76-4761-b69f-295d8f252606",
   "metadata": {},
   "outputs": [
    {
     "name": "stdout",
     "output_type": "stream",
     "text": [
      "False\n"
     ]
    }
   ],
   "source": [
    "# 5. If a dictionary is stored in spam, what is the difference between the expressions 'cat' in spam and 'cat' in spam.keys()?\n",
    "spam = {'bar':100}\n",
    "print ('cat' in spam)"
   ]
  },
  {
   "cell_type": "code",
   "execution_count": 26,
   "id": "da832b8f-0ff7-4bad-877b-432f6e7fd4ae",
   "metadata": {},
   "outputs": [
    {
     "name": "stdout",
     "output_type": "stream",
     "text": [
      "False\n"
     ]
    }
   ],
   "source": [
    "print('cat' in spam.keys())"
   ]
  },
  {
   "cell_type": "code",
   "execution_count": 32,
   "id": "b701cbf2-392a-49f5-9fea-c1f10e5b4e12",
   "metadata": {},
   "outputs": [
    {
     "name": "stdout",
     "output_type": "stream",
     "text": [
      "False\n"
     ]
    }
   ],
   "source": [
    "# 6. If a dictionary is stored in spam, what is the difference between the expressions 'cat' in spam and 'cat' in spam.values()\n",
    "print ('cat' in spam.values())"
   ]
  },
  {
   "cell_type": "code",
   "execution_count": 39,
   "id": "cb70be32-9d30-4619-8e25-7180bc020d3e",
   "metadata": {},
   "outputs": [],
   "source": [
    "# 7. What is a shortcut for the following code?\n",
    "if 'color' not in spam:\n",
    "    spam['color'] = 'black'"
   ]
  },
  {
   "cell_type": "code",
   "execution_count": 40,
   "id": "cddff6a4-3c0c-4c8e-b436-0128ca3d2161",
   "metadata": {},
   "outputs": [
    {
     "data": {
      "text/plain": [
       "'black'"
      ]
     },
     "execution_count": 40,
     "metadata": {},
     "output_type": "execute_result"
    }
   ],
   "source": [
    "spam.setdefault('color', 'black')\n"
   ]
  },
  {
   "cell_type": "code",
   "execution_count": 43,
   "id": "0db97fbd-9c67-4436-8b08-20654e1ee54d",
   "metadata": {},
   "outputs": [
    {
     "name": "stdout",
     "output_type": "stream",
     "text": [
      "{'age': 30,\n",
      " 'education': {'degree': 'Masters', 'university': 'XYZ University'},\n",
      " 'hobbies': ['reading', 'cycling', 'hiking'],\n",
      " 'name': 'Alice'}\n"
     ]
    }
   ],
   "source": [
    "# 8. How do you \"pretty print\" dictionary values using which module and function?\n",
    "import pprint\n",
    "\n",
    "# Sample dictionary\n",
    "sample_dict = {\n",
    "    'name': 'Alice',\n",
    "    'age': 30,\n",
    "    'hobbies': ['reading', 'cycling', 'hiking'],\n",
    "    'education': {\n",
    "        'degree': 'Masters',\n",
    "        'university': 'XYZ University'\n",
    "    }\n",
    "}\n",
    "\n",
    "# Pretty print the dictionary\n",
    "pprint.pprint(sample_dict)\n"
   ]
  },
  {
   "cell_type": "code",
   "execution_count": null,
   "id": "7a108852-8a65-43be-8276-bfbe91cbae6d",
   "metadata": {},
   "outputs": [],
   "source": []
  }
 ],
 "metadata": {
  "kernelspec": {
   "display_name": "Python 3 (ipykernel)",
   "language": "python",
   "name": "python3"
  },
  "language_info": {
   "codemirror_mode": {
    "name": "ipython",
    "version": 3
   },
   "file_extension": ".py",
   "mimetype": "text/x-python",
   "name": "python",
   "nbconvert_exporter": "python",
   "pygments_lexer": "ipython3",
   "version": "3.12.4"
  }
 },
 "nbformat": 4,
 "nbformat_minor": 5
}
