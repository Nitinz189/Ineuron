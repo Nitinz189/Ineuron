{
 "cells": [
  {
   "cell_type": "code",
   "execution_count": 1,
   "id": "9c333350-5dac-4d7b-a81d-80036b019594",
   "metadata": {},
   "outputs": [
    {
     "data": {
      "text/plain": [
       "'\\n1. What are escape characters, and how do you use them?\\n2. What do the escape characters n and t stand for?\\n3. What is the way to include backslash characters in a string?\\n4. The string \"Howl\\'s Moving Castle\" is a correct value. Why isn\\'t the single quote character in the word Howl\\'s not escaped a problem?\\n5. How do you write a string of newlines if you don\\'t want to use the n character?\\n6. What are the values of the given expressions?\\n\\'Hello, world!\\'[1]\\n\\'Hello, world!\\'[0:5]\\n\\'Hello, world!\\'[:5]\\n\\'Hello, world!\\'[3:]\\n\\n7. What are the values of the following expressions?\\n\\'Hello\\'.upper()\\n\\'Hello\\'.upper().isupper()\\n\\'Hello\\'.upper().lower()\\n8. What are the values of the following expressions?\\n\\'Remember, remember, the fifth of July.\\'.split()\\n\\'-\\'.join(\\'There can only one.\\'.split())\\n9. What are the methods for right-justifying, left-justifying, and centering a string?\\n10. What is the best way to remove whitespace characters from the start or end?\\n\\n\\n\\n'"
      ]
     },
     "execution_count": 1,
     "metadata": {},
     "output_type": "execute_result"
    }
   ],
   "source": [
    "'''\n",
    "1. What are escape characters, and how do you use them?\n",
    "2. What do the escape characters n and t stand for?\n",
    "3. What is the way to include backslash characters in a string?\n",
    "4. The string \"Howl's Moving Castle\" is a correct value. Why isn't the single quote character in the word Howl's not escaped a problem?\n",
    "5. How do you write a string of newlines if you don't want to use the n character?\n",
    "6. What are the values of the given expressions?\n",
    "'Hello, world!'[1]\n",
    "'Hello, world!'[0:5]\n",
    "'Hello, world!'[:5]\n",
    "'Hello, world!'[3:]\n",
    "\n",
    "7. What are the values of the following expressions?\n",
    "'Hello'.upper()\n",
    "'Hello'.upper().isupper()\n",
    "'Hello'.upper().lower()\n",
    "8. What are the values of the following expressions?\n",
    "'Remember, remember, the fifth of July.'.split()\n",
    "'-'.join('There can only one.'.split())\n",
    "9. What are the methods for right-justifying, left-justifying, and centering a string?\n",
    "10. What is the best way to remove whitespace characters from the start or end?\n",
    "\n",
    "\n",
    "\n"
   ]
  },
  {
   "cell_type": "code",
   "execution_count": 14,
   "id": "fb8f4682-ee98-4531-a861-071a4c5feaad",
   "metadata": {},
   "outputs": [],
   "source": [
    "#1. What are escape characters, and how do you use them?\n",
    "#The escape character allows you to use double quotes when you normally would not be allowed\n",
    "f = \" this is \\\"nothing\\\" the answer\""
   ]
  },
  {
   "cell_type": "code",
   "execution_count": 15,
   "id": "16a0b835-d4b9-4e8d-93cd-7b106a3f286c",
   "metadata": {},
   "outputs": [
    {
     "name": "stdout",
     "output_type": "stream",
     "text": [
      " this is \"nothing\" the answer\n"
     ]
    }
   ],
   "source": [
    "print(f)"
   ]
  },
  {
   "cell_type": "code",
   "execution_count": 10,
   "id": "2fad09b3-d4fa-45f3-91a9-807f6a4213d8",
   "metadata": {},
   "outputs": [],
   "source": [
    "txt = \"We are the so-called \\\"Vikings\\\" from the north.\""
   ]
  },
  {
   "cell_type": "code",
   "execution_count": 16,
   "id": "8b2df694-7867-4a0a-8896-1d0145676b83",
   "metadata": {},
   "outputs": [
    {
     "name": "stdout",
     "output_type": "stream",
     "text": [
      "We are the so-called \"Vikings\" from the north. this is not hapenning\n"
     ]
    }
   ],
   "source": [
    "print(f'{txt} this is not hapenning')"
   ]
  },
  {
   "cell_type": "code",
   "execution_count": 18,
   "id": "c89158c1-890d-4a41-9817-a07b419a450a",
   "metadata": {},
   "outputs": [],
   "source": [
    "#2. What do the escape characters n and t stand for?\n",
    "# \\n stands for new line and \\t stands for  Tab space between \n",
    "f = \"My name is nitin\\ti am from varanasi \\nI am a data scientist\""
   ]
  },
  {
   "cell_type": "code",
   "execution_count": 19,
   "id": "cb1afae4-1b90-429d-9a41-fb0963b5b609",
   "metadata": {},
   "outputs": [
    {
     "name": "stdout",
     "output_type": "stream",
     "text": [
      "My name is nitin\ti am from varanasi \n",
      "I am a data scientist\n"
     ]
    }
   ],
   "source": [
    "print(f)"
   ]
  },
  {
   "cell_type": "code",
   "execution_count": 20,
   "id": "2d489b7e-b6a5-4f28-8d91-fc2e23188663",
   "metadata": {},
   "outputs": [],
   "source": [
    "#3. What is the way to include backslash characters in a string?\n",
    "# a backslash character in a string, you can use a double backslash \\\\. \n",
    "# The first backslash is the escape character, which tells Python to treat the next character as a literal character."
   ]
  },
  {
   "cell_type": "code",
   "execution_count": 21,
   "id": "8bf248eb-8d61-4493-ac49-a739a1f8d1d3",
   "metadata": {},
   "outputs": [],
   "source": [
    "#The string \"Howl's Moving Castle\" is a correct value. Why isn't the single quote character in the word Howl's not escaped a problem?\n",
    "#Because when we put single quote in double quote it's not create problem."
   ]
  },
  {
   "cell_type": "code",
   "execution_count": 25,
   "id": "44c1253a-811a-4014-b727-fb8f34fef2bb",
   "metadata": {},
   "outputs": [
    {
     "name": "stdout",
     "output_type": "stream",
     "text": [
      "here we print \n",
      "without n characterin \n"
     ]
    }
   ],
   "source": [
    "# How do you write a string of newlines if you don't want to use the n character?\n",
    "# We can use multiline string\n",
    "f = '''here we print \n",
    "without n characterin '''\n",
    "print(f)"
   ]
  },
  {
   "cell_type": "code",
   "execution_count": 27,
   "id": "39228a76-d029-4763-b75d-6efef90f97da",
   "metadata": {},
   "outputs": [
    {
     "data": {
      "text/plain": [
       "'e'"
      ]
     },
     "execution_count": 27,
     "metadata": {},
     "output_type": "execute_result"
    }
   ],
   "source": [
    "#6. What are the values of the given expressions?\n",
    "'Hello, world!'[1]"
   ]
  },
  {
   "cell_type": "code",
   "execution_count": 28,
   "id": "eba527bc-5403-4ebf-a470-357e95db2127",
   "metadata": {},
   "outputs": [
    {
     "data": {
      "text/plain": [
       "'Hello'"
      ]
     },
     "execution_count": 28,
     "metadata": {},
     "output_type": "execute_result"
    }
   ],
   "source": [
    "'Hello, world!'[0:5]\n"
   ]
  },
  {
   "cell_type": "code",
   "execution_count": 29,
   "id": "85eadc90-b818-4c61-97be-1ad980a60b0a",
   "metadata": {},
   "outputs": [
    {
     "data": {
      "text/plain": [
       "'Hello'"
      ]
     },
     "execution_count": 29,
     "metadata": {},
     "output_type": "execute_result"
    }
   ],
   "source": [
    "'Hello, world!'[:5]\n"
   ]
  },
  {
   "cell_type": "code",
   "execution_count": 30,
   "id": "eaeb1e90-315e-4a59-aacc-f48117f8356b",
   "metadata": {},
   "outputs": [
    {
     "data": {
      "text/plain": [
       "'lo, world!'"
      ]
     },
     "execution_count": 30,
     "metadata": {},
     "output_type": "execute_result"
    }
   ],
   "source": [
    "'Hello, world!'[3:]"
   ]
  },
  {
   "cell_type": "code",
   "execution_count": 31,
   "id": "9177dc2a-281c-4704-9052-928ad0b4bcbe",
   "metadata": {},
   "outputs": [
    {
     "data": {
      "text/plain": [
       "'HELLO'"
      ]
     },
     "execution_count": 31,
     "metadata": {},
     "output_type": "execute_result"
    }
   ],
   "source": [
    "#7. What are the values of the following expressions?\n",
    "'Hello'.upper()"
   ]
  },
  {
   "cell_type": "code",
   "execution_count": 32,
   "id": "67dab0c4-21c8-47c2-b709-7c7c6b965b72",
   "metadata": {},
   "outputs": [
    {
     "data": {
      "text/plain": [
       "True"
      ]
     },
     "execution_count": 32,
     "metadata": {},
     "output_type": "execute_result"
    }
   ],
   "source": [
    "'Hello'.upper().isupper()"
   ]
  },
  {
   "cell_type": "code",
   "execution_count": 33,
   "id": "0165e4cf-0417-4c54-a29f-e970806d1990",
   "metadata": {},
   "outputs": [
    {
     "data": {
      "text/plain": [
       "'hello'"
      ]
     },
     "execution_count": 33,
     "metadata": {},
     "output_type": "execute_result"
    }
   ],
   "source": [
    "'Hello'.upper().lower()"
   ]
  },
  {
   "cell_type": "code",
   "execution_count": 34,
   "id": "abcb5abd-e72f-40a4-958e-05472cb8170d",
   "metadata": {},
   "outputs": [
    {
     "data": {
      "text/plain": [
       "'There-can-only-one.'"
      ]
     },
     "execution_count": 34,
     "metadata": {},
     "output_type": "execute_result"
    }
   ],
   "source": [
    "#8. What are the values of the following expressions?\n",
    "'Remember, remember, the fifth of July.'.split()\n",
    "'-'.join('There can only one.'.split())"
   ]
  },
  {
   "cell_type": "code",
   "execution_count": 36,
   "id": "87cc63de-fb4c-468e-9246-10cd8cf50ed5",
   "metadata": {},
   "outputs": [
    {
     "name": "stdout",
     "output_type": "stream",
     "text": [
      "     hello\n"
     ]
    }
   ],
   "source": [
    "#9. What are the methods for right-justifying, left-justifying, and centering a string?\n",
    "\n",
    "text = \"hello\"\n",
    "right_justified = text.rjust(10)\n",
    "print(right_justified)\n"
   ]
  },
  {
   "cell_type": "code",
   "execution_count": 37,
   "id": "f0192789-8d92-4c6e-813e-5d6047b0ad69",
   "metadata": {},
   "outputs": [
    {
     "name": "stdout",
     "output_type": "stream",
     "text": [
      "hello     \n"
     ]
    }
   ],
   "source": [
    "text = \"hello\"\n",
    "left_justified = text.ljust(10)\n",
    "print(left_justified)\n"
   ]
  },
  {
   "cell_type": "code",
   "execution_count": 38,
   "id": "b9b18e3d-04b8-4a0d-9bbe-e6e385126460",
   "metadata": {},
   "outputs": [
    {
     "name": "stdout",
     "output_type": "stream",
     "text": [
      "  hello   \n"
     ]
    }
   ],
   "source": [
    "text = \"hello\"\n",
    "centered = text.center(10)\n",
    "print(centered) \n"
   ]
  },
  {
   "cell_type": "code",
   "execution_count": null,
   "id": "61e33f2c-4b77-4e0a-9688-75f6c197b168",
   "metadata": {},
   "outputs": [],
   "source": [
    "#10. What is the best way to remove whitespace characters from the start or end?\n",
    "\n",
    "f = \"                 this \" "
   ]
  }
 ],
 "metadata": {
  "kernelspec": {
   "display_name": "Python 3 (ipykernel)",
   "language": "python",
   "name": "python3"
  },
  "language_info": {
   "codemirror_mode": {
    "name": "ipython",
    "version": 3
   },
   "file_extension": ".py",
   "mimetype": "text/x-python",
   "name": "python",
   "nbconvert_exporter": "python",
   "pygments_lexer": "ipython3",
   "version": "3.12.4"
  }
 },
 "nbformat": 4,
 "nbformat_minor": 5
}
