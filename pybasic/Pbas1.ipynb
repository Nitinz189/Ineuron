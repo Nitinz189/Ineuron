{
 "cells": [
  {
   "cell_type": "code",
   "execution_count": 5,
   "id": "4ebb0c48-25ce-4b1c-982d-b52db015a2ec",
   "metadata": {},
   "outputs": [
    {
     "data": {
      "text/plain": [
       "\"\\n1. In the below elements which of them are values or an expression? eg:- values can be integer or string and expressions will be mathematical operators.\\n* \\n'hello'\\n-87.8\\n- \\n/ \\n+\\t\\n6 \\n\\n2. What is the difference between string and variable?\\n\\n3. Describe three different data types.\\n\\n4. What is an expression made up of? What do all expressions do?\\n5. This assignment statements, like spam = 10. What is the difference between an expression and a statement?\\n6. After running the following code, what does the variable bacon contain?\\nbacon = 22\\nbacon + 1\\n\\n7. What should the values of the following two terms be?\\n'spam' + 'spamspam'\\n'spam' * 3\\n\\n8. Why is eggs a valid variable name while 100 is invalid?\\n9. What three functions can be used to get the integer, floating-point number, or string version of a value?\\n10. Why does this expression cause an error? How can you fix it?\\n'I have eaten ' + 99 + ' burritos.'\\n\\n\\n\\n\""
      ]
     },
     "execution_count": 5,
     "metadata": {},
     "output_type": "execute_result"
    }
   ],
   "source": [
    "'''\n",
    "1. In the below elements which of them are values or an expression? eg:- values can be integer or string and expressions will be mathematical operators.\n",
    "* \n",
    "'hello'\n",
    "-87.8\n",
    "- \n",
    "/ \n",
    "+\t\n",
    "6 \n",
    "\n",
    "2. What is the difference between string and variable?\n",
    "\n",
    "3. Describe three different data types.\n",
    "\n",
    "4. What is an expression made up of? What do all expressions do?\n",
    "5. This assignment statements, like spam = 10. What is the difference between an expression and a statement?\n",
    "6. After running the following code, what does the variable bacon contain?\n",
    "bacon = 22\n",
    "bacon + 1\n",
    "\n",
    "7. What should the values of the following two terms be?\n",
    "'spam' + 'spamspam'\n",
    "'spam' * 3\n",
    "\n",
    "8. Why is eggs a valid variable name while 100 is invalid?\n",
    "9. What three functions can be used to get the integer, floating-point number, or string version of a value?\n",
    "10. Why does this expression cause an error? How can you fix it?\n",
    "'I have eaten ' + 99 + ' burritos.'\n",
    "\n",
    "\n",
    "\n",
    "'''"
   ]
  },
  {
   "cell_type": "code",
   "execution_count": 4,
   "id": "e9124e50-6365-4e2e-8f6c-6df8a19839bb",
   "metadata": {},
   "outputs": [],
   "source": [
    "# 1. In the below elements which of them are values or an expression? eg:- values can be integer or string and expressions will be mathematical operators.\n",
    "# * = mathematical operators\n",
    "# 'hello' = values\n",
    "# -87.8 = integer\n",
    "# - = mathematical operators\n",
    "# /  = expression\n",
    "# +\t= mathematical operators\n",
    "# 6 = values (integers)\n"
   ]
  },
  {
   "cell_type": "code",
   "execution_count": 6,
   "id": "501c3328-25d9-4c7e-b700-8c19dbf76594",
   "metadata": {},
   "outputs": [],
   "source": [
    "# 2. What is the difference between string and variable?\n",
    "# string is a sequence of characters enclosed in quotes and variable is a nme that refers to value eg\n",
    "x = \"This is a string\"\n",
    "# here x is varible and the value is he stored is string"
   ]
  },
  {
   "cell_type": "code",
   "execution_count": 7,
   "id": "44a1a543-361c-4651-b3d2-1c10a10db353",
   "metadata": {},
   "outputs": [
    {
     "data": {
      "text/plain": [
       "'This is a string'"
      ]
     },
     "execution_count": 7,
     "metadata": {},
     "output_type": "execute_result"
    }
   ],
   "source": [
    "x"
   ]
  },
  {
   "cell_type": "code",
   "execution_count": 9,
   "id": "95ceb19e-0f82-4a24-8bb5-f384f31e3226",
   "metadata": {},
   "outputs": [],
   "source": [
    "# 3. Describe three different data types.\n",
    "# Data Types\n",
    "# 1 . str - this shows that the data type its contained is string\n",
    "a = 'This is a string data type'\n",
    "# 2. int- this shows that the data type its contained is integer\n",
    "b = 54\n",
    "# 3. bool - this shows that data type its contained is boolean \n",
    "c = True\n",
    "d = False"
   ]
  },
  {
   "cell_type": "code",
   "execution_count": 15,
   "id": "1b93f86f-4e9d-452a-b460-957d5623405d",
   "metadata": {},
   "outputs": [
    {
     "data": {
      "text/plain": [
       "str"
      ]
     },
     "execution_count": 15,
     "metadata": {},
     "output_type": "execute_result"
    }
   ],
   "source": [
    "type(a)"
   ]
  },
  {
   "cell_type": "code",
   "execution_count": 17,
   "id": "f49d1ba9-f483-4b02-935a-d0421e21d730",
   "metadata": {},
   "outputs": [
    {
     "data": {
      "text/plain": [
       "int"
      ]
     },
     "execution_count": 17,
     "metadata": {},
     "output_type": "execute_result"
    }
   ],
   "source": [
    "type(b)"
   ]
  },
  {
   "cell_type": "code",
   "execution_count": 18,
   "id": "32f5aeac-e342-482e-ad22-9c71d6b7de37",
   "metadata": {},
   "outputs": [
    {
     "data": {
      "text/plain": [
       "bool"
      ]
     },
     "execution_count": 18,
     "metadata": {},
     "output_type": "execute_result"
    }
   ],
   "source": [
    "type(c)"
   ]
  },
  {
   "cell_type": "code",
   "execution_count": 19,
   "id": "e56090ca-a06d-4893-bece-c84dc8769e79",
   "metadata": {},
   "outputs": [],
   "source": [
    "# 4. What is an expression made up of? What do all expressions do?\n",
    "# an expression is a combination of values, variables, operators, and functions that are evaluated to produce another value\n",
    "# All expressions are evaluated to produce a single value. This means they are computed according to the rules of the programming language to yield a result"
   ]
  },
  {
   "cell_type": "code",
   "execution_count": 21,
   "id": "5a74ba20-4031-447e-835a-b2f0fca1ea6b",
   "metadata": {},
   "outputs": [],
   "source": [
    "# 5. This assignment statements, like spam = 10. What is the difference between an expression and a statement?\n",
    "# expression is waht we defined in ablove question\n",
    "# statement is complete line of code that perform an action\n",
    "\n"
   ]
  },
  {
   "cell_type": "code",
   "execution_count": 22,
   "id": "7ef8b8df-7fe4-4b95-b329-4c0a96ee97d6",
   "metadata": {},
   "outputs": [
    {
     "data": {
      "text/plain": [
       "23"
      ]
     },
     "execution_count": 22,
     "metadata": {},
     "output_type": "execute_result"
    }
   ],
   "source": [
    "# After running the following code, what does the variable bacon contain?\n",
    "bacon = 22\n",
    "bacon + 1"
   ]
  },
  {
   "cell_type": "code",
   "execution_count": 23,
   "id": "f6616385-ba8b-4889-a8f7-e72a17b5a764",
   "metadata": {},
   "outputs": [
    {
     "data": {
      "text/plain": [
       "22"
      ]
     },
     "execution_count": 23,
     "metadata": {},
     "output_type": "execute_result"
    }
   ],
   "source": [
    "bacon"
   ]
  },
  {
   "cell_type": "code",
   "execution_count": 24,
   "id": "5329ee21-d7df-48a4-bfc4-18cac8b18d86",
   "metadata": {},
   "outputs": [],
   "source": [
    "# Its still contain value of 22 because here we are not changing its value\n"
   ]
  },
  {
   "cell_type": "code",
   "execution_count": 25,
   "id": "0543be38-e8d8-4759-859d-aabf94e096a8",
   "metadata": {},
   "outputs": [
    {
     "data": {
      "text/plain": [
       "'spamspamspam'"
      ]
     },
     "execution_count": 25,
     "metadata": {},
     "output_type": "execute_result"
    }
   ],
   "source": [
    "# 7. What should the values of the following two terms be?\n",
    "\n",
    "'spam' * 3"
   ]
  },
  {
   "cell_type": "code",
   "execution_count": 26,
   "id": "9f2042e6-1e85-4428-bfa4-dac6de0fd5cb",
   "metadata": {},
   "outputs": [
    {
     "data": {
      "text/plain": [
       "'spamspamspam'"
      ]
     },
     "execution_count": 26,
     "metadata": {},
     "output_type": "execute_result"
    }
   ],
   "source": [
    "'spam' + 'spamspam'"
   ]
  },
  {
   "cell_type": "code",
   "execution_count": 27,
   "id": "afeac7ea-5640-4331-a86e-41fffb920838",
   "metadata": {},
   "outputs": [],
   "source": [
    "# 8. Why is eggs a valid variable name while 100 is invalid?\n",
    "# because we cant start variable name with integers\n",
    "egg = \"This can be used as varible\""
   ]
  },
  {
   "cell_type": "code",
   "execution_count": 28,
   "id": "f7ea4fe0-8b3e-47f3-82e3-3e32679f52d0",
   "metadata": {},
   "outputs": [
    {
     "data": {
      "text/plain": [
       "'This can be used as varible'"
      ]
     },
     "execution_count": 28,
     "metadata": {},
     "output_type": "execute_result"
    }
   ],
   "source": [
    "egg"
   ]
  },
  {
   "cell_type": "code",
   "execution_count": 29,
   "id": "df183392-e840-41bd-b71a-e2d0f5d47c02",
   "metadata": {},
   "outputs": [
    {
     "ename": "SyntaxError",
     "evalue": "cannot assign to literal here. Maybe you meant '==' instead of '='? (1031011769.py, line 1)",
     "output_type": "error",
     "traceback": [
      "\u001b[1;36m  Cell \u001b[1;32mIn[29], line 1\u001b[1;36m\u001b[0m\n\u001b[1;33m    100 = \"invalid variable name\"\u001b[0m\n\u001b[1;37m    ^\u001b[0m\n\u001b[1;31mSyntaxError\u001b[0m\u001b[1;31m:\u001b[0m cannot assign to literal here. Maybe you meant '==' instead of '='?\n"
     ]
    }
   ],
   "source": [
    "# 100 = \"invalid variable name\""
   ]
  },
  {
   "cell_type": "code",
   "execution_count": 31,
   "id": "e6eb195a-b031-44dd-adb9-4d54e5f16477",
   "metadata": {},
   "outputs": [
    {
     "data": {
      "text/plain": [
       "'3.14'"
      ]
     },
     "execution_count": 31,
     "metadata": {},
     "output_type": "execute_result"
    }
   ],
   "source": [
    "# 9. What three functions can be used to get the integer, floating-point number, or string version of a value?\n",
    "str() #to get strings \n",
    "int() # to get integer\n",
    "float() # to get floating-point number\n",
    "#eg\n",
    "str(3.14)"
   ]
  },
  {
   "cell_type": "code",
   "execution_count": 32,
   "id": "438ac135-a26f-4986-b8b2-4794a058e5f0",
   "metadata": {},
   "outputs": [
    {
     "data": {
      "text/plain": [
       "56"
      ]
     },
     "execution_count": 32,
     "metadata": {},
     "output_type": "execute_result"
    }
   ],
   "source": [
    "int(56)"
   ]
  },
  {
   "cell_type": "code",
   "execution_count": 36,
   "id": "2d10ec41-ea65-4819-9c56-139f09e2ea31",
   "metadata": {},
   "outputs": [
    {
     "data": {
      "text/plain": [
       "5.0"
      ]
     },
     "execution_count": 36,
     "metadata": {},
     "output_type": "execute_result"
    }
   ],
   "source": [
    "float(5)"
   ]
  },
  {
   "cell_type": "code",
   "execution_count": 39,
   "id": "f35f2254-5d3b-459c-953a-550127161288",
   "metadata": {},
   "outputs": [
    {
     "data": {
      "text/plain": [
       "'I have eaten 99 burritos.'"
      ]
     },
     "execution_count": 39,
     "metadata": {},
     "output_type": "execute_result"
    }
   ],
   "source": [
    "# Why does this expression cause an error? How can you fix it?\n",
    "# 'I have eaten ' + 99 + ' burritos.'\n",
    "#  because we can only concactenate same data types we just have to change 99 into string\n",
    "'I have eaten ' + '99' + ' burritos.'"
   ]
  },
  {
   "cell_type": "code",
   "execution_count": null,
   "id": "bcdbba2e-fa0c-4fd7-9d93-3557de5e8915",
   "metadata": {},
   "outputs": [],
   "source": []
  }
 ],
 "metadata": {
  "kernelspec": {
   "display_name": "Python 3 (ipykernel)",
   "language": "python",
   "name": "python3"
  },
  "language_info": {
   "codemirror_mode": {
    "name": "ipython",
    "version": 3
   },
   "file_extension": ".py",
   "mimetype": "text/x-python",
   "name": "python",
   "nbconvert_exporter": "python",
   "pygments_lexer": "ipython3",
   "version": "3.12.4"
  }
 },
 "nbformat": 4,
 "nbformat_minor": 5
}
